{
  "nbformat": 4,
  "nbformat_minor": 0,
  "metadata": {
    "colab": {
      "name": "HW6.ipynb",
      "provenance": []
    },
    "kernelspec": {
      "name": "python3",
      "display_name": "Python 3"
    },
    "accelerator": "TPU"
  },
  "cells": [
    {
      "cell_type": "code",
      "metadata": {
        "id": "2eMsvlHWpKj6",
        "colab_type": "code",
        "colab": {}
      },
      "source": [
        "%matplotlib inline\n",
        "\n",
        "import numpy as np\n",
        "import matplotlib.pyplot as plt\n",
        "import pandas as pd"
      ],
      "execution_count": 0,
      "outputs": []
    },
    {
      "cell_type": "code",
      "metadata": {
        "id": "v1c_iKylpPAG",
        "colab_type": "code",
        "colab": {}
      },
      "source": [
        "from tensorflow.keras.preprocessing import sequence\n",
        "from tensorflow.keras.models import Sequential\n",
        "from tensorflow.keras.layers import Dense, Embedding\n",
        "from tensorflow.keras.layers import LSTM\n",
        "from tensorflow.keras.datasets import imdb"
      ],
      "execution_count": 0,
      "outputs": []
    },
    {
      "cell_type": "code",
      "metadata": {
        "id": "PAZyoYkQpQpZ",
        "colab_type": "code",
        "colab": {}
      },
      "source": [
        "(x_train, y_train), (x_test, y_test) = imdb.load_data(num_words=10000)"
      ],
      "execution_count": 0,
      "outputs": []
    },
    {
      "cell_type": "markdown",
      "metadata": {
        "id": "qCQfvxJGpiW1",
        "colab_type": "text"
      },
      "source": [
        "將maxlene改為200"
      ]
    },
    {
      "cell_type": "code",
      "metadata": {
        "id": "RNEs7yADpSXv",
        "colab_type": "code",
        "colab": {}
      },
      "source": [
        "x_train = sequence.pad_sequences(x_train, maxlen=200)\n",
        "x_test = sequence.pad_sequences(x_test, maxlen=200)"
      ],
      "execution_count": 0,
      "outputs": []
    },
    {
      "cell_type": "markdown",
      "metadata": {
        "id": "dfHdE9YXpvAc",
        "colab_type": "text"
      },
      "source": [
        "打造學習機(Embedding = (10000, 64)，recurrent-dropout = 0.2，dropout rate=0.2)"
      ]
    },
    {
      "cell_type": "code",
      "metadata": {
        "id": "7UUVlHR2pl0X",
        "colab_type": "code",
        "colab": {
          "base_uri": "https://localhost:8080/",
          "height": 260
        },
        "outputId": "a0db7733-9e06-4ade-ccd5-e4ff6ffb714e"
      },
      "source": [
        "model = Sequential()\n",
        "model.add(Embedding(10000, 64))\n",
        "model.add(LSTM(128, dropout=0.2, recurrent_dropout=0.2))\n",
        "model.add(Dense(1, activation='sigmoid'))\n",
        "\n",
        "model.compile(loss='binary_crossentropy',\n",
        "             optimizer='adam',\n",
        "             metrics=['accuracy'])\n",
        "model.summary()"
      ],
      "execution_count": 5,
      "outputs": [
        {
          "output_type": "stream",
          "text": [
            "Model: \"sequential\"\n",
            "_________________________________________________________________\n",
            "Layer (type)                 Output Shape              Param #   \n",
            "=================================================================\n",
            "embedding (Embedding)        (None, None, 64)          640000    \n",
            "_________________________________________________________________\n",
            "lstm (LSTM)                  (None, 128)               98816     \n",
            "_________________________________________________________________\n",
            "dense (Dense)                (None, 1)                 129       \n",
            "=================================================================\n",
            "Total params: 738,945\n",
            "Trainable params: 738,945\n",
            "Non-trainable params: 0\n",
            "_________________________________________________________________\n"
          ],
          "name": "stdout"
        }
      ]
    },
    {
      "cell_type": "markdown",
      "metadata": {
        "id": "vhrzR8AbpzM2",
        "colab_type": "text"
      },
      "source": [
        "訓練(batch_size = 64，epochs=10)"
      ]
    },
    {
      "cell_type": "code",
      "metadata": {
        "id": "5uQKFztlpsSm",
        "colab_type": "code",
        "colab": {
          "base_uri": "https://localhost:8080/",
          "height": 381
        },
        "outputId": "7b9bdea2-cf08-45ea-9853-0a4f3e9fa9c5"
      },
      "source": [
        "model.fit(x_train, y_train, batch_size = 64, epochs = 10, validation_data=(x_test,y_test))"
      ],
      "execution_count": 6,
      "outputs": [
        {
          "output_type": "stream",
          "text": [
            "Epoch 1/10\n",
            "391/391 [==============================] - 278s 712ms/step - loss: 0.4284 - accuracy: 0.7923 - val_loss: 0.3047 - val_accuracy: 0.8708\n",
            "Epoch 2/10\n",
            "391/391 [==============================] - 278s 710ms/step - loss: 0.2581 - accuracy: 0.8990 - val_loss: 0.3389 - val_accuracy: 0.8547\n",
            "Epoch 3/10\n",
            "391/391 [==============================] - 277s 709ms/step - loss: 0.1957 - accuracy: 0.9254 - val_loss: 0.3347 - val_accuracy: 0.8657\n",
            "Epoch 4/10\n",
            "391/391 [==============================] - 280s 716ms/step - loss: 0.1604 - accuracy: 0.9406 - val_loss: 0.4215 - val_accuracy: 0.8452\n",
            "Epoch 5/10\n",
            "391/391 [==============================] - 281s 720ms/step - loss: 0.1280 - accuracy: 0.9536 - val_loss: 0.4496 - val_accuracy: 0.8523\n",
            "Epoch 6/10\n",
            "391/391 [==============================] - 279s 713ms/step - loss: 0.1143 - accuracy: 0.9591 - val_loss: 0.4274 - val_accuracy: 0.8566\n",
            "Epoch 7/10\n",
            "391/391 [==============================] - 278s 711ms/step - loss: 0.1649 - accuracy: 0.9352 - val_loss: 0.5986 - val_accuracy: 0.8437\n",
            "Epoch 8/10\n",
            "391/391 [==============================] - 280s 717ms/step - loss: 0.0978 - accuracy: 0.9658 - val_loss: 0.5508 - val_accuracy: 0.8569\n",
            "Epoch 9/10\n",
            "391/391 [==============================] - 279s 715ms/step - loss: 0.0669 - accuracy: 0.9780 - val_loss: 0.4985 - val_accuracy: 0.8514\n",
            "Epoch 10/10\n",
            "391/391 [==============================] - 287s 735ms/step - loss: 0.0538 - accuracy: 0.9823 - val_loss: 0.6549 - val_accuracy: 0.8503\n"
          ],
          "name": "stdout"
        },
        {
          "output_type": "execute_result",
          "data": {
            "text/plain": [
              "<tensorflow.python.keras.callbacks.History at 0x7f615ce05f60>"
            ]
          },
          "metadata": {
            "tags": []
          },
          "execution_count": 6
        }
      ]
    },
    {
      "cell_type": "code",
      "metadata": {
        "id": "ThdDfzYx4gbQ",
        "colab_type": "code",
        "colab": {}
      },
      "source": [
        ""
      ],
      "execution_count": 0,
      "outputs": []
    }
  ]
}