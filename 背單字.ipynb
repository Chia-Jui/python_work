{
 "cells": [
  {
   "cell_type": "code",
   "execution_count": null,
   "metadata": {},
   "outputs": [
    {
     "name": "stdout",
     "output_type": "stream",
     "text": [
      "請輸入正確的英文翻譯:\n",
      "天文學 :\n"
     ]
    }
   ],
   "source": [
    "dict ={'天文學':'astronomy', '衛星':'satellite', '隕石':'meteorite', '星座':'constellation', '流星':'meteor', '彗星':'comet', '行星':'planet', '小行星':'asteroid', '輻射':'radiation', '天文台':'observatory', '紅外線':'infrared ray', '紫外線':'ultraviolet ray', '水星':'Mercury','金星':'Venus', '火星':'Mars', '木星':'Jupiter', '土星':'Saturn', '天王星':'Uranus', '海王星':'Neptune', '矮星':'dwarf'}\n",
    "\n",
    "print(\"請輸入正確的英文翻譯:\")\n",
    "for i in dict:\n",
    "    print(i,\":\")\n",
    "    k=1\n",
    "    while True:\n",
    "        answer=input()\n",
    "        if answer==dict[i]:\n",
    "            print(\"答對了!\")\n",
    "            break\n",
    "        else:\n",
    "            print(\"第{0:d}次答錯。\\n再來一次。\".format(k))\n",
    "            k+=1\n",
    "        \n",
    "print(\"恭喜背完全部單字!\")"
   ]
  },
  {
   "cell_type": "code",
   "execution_count": null,
   "metadata": {},
   "outputs": [],
   "source": []
  }
 ],
 "metadata": {
  "kernelspec": {
   "display_name": "Python 3",
   "language": "python",
   "name": "python3"
  },
  "language_info": {
   "codemirror_mode": {
    "name": "ipython",
    "version": 3
   },
   "file_extension": ".py",
   "mimetype": "text/x-python",
   "name": "python",
   "nbconvert_exporter": "python",
   "pygments_lexer": "ipython3",
   "version": "3.7.4"
  }
 },
 "nbformat": 4,
 "nbformat_minor": 2
}
